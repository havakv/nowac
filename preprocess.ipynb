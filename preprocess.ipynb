{
 "cells": [
  {
   "cell_type": "markdown",
   "metadata": {},
   "source": [
    "# Preprosess nowac dataset\n",
    "\n",
    "Notebook showing how the nowac dataset preprocessed.\n",
    "\n",
    "This is not based on the original dataset, but instead on Gudmund's 'nowac-1.2_old.txt'."
   ]
  },
  {
   "cell_type": "markdown",
   "metadata": {},
   "source": [
    "## Suggestions from Gudmund\n",
    "1) Første ord skal ikke være et tall ‘sekvens', e.g. 12.34.56, men kan muligens være kun ett tall?\n",
    "\n",
    "2) Første ord skal ha lengde > 1 med mindre det er I eller Å, og det må ha stor forbokstav.\n",
    "\n",
    "3) Setningen skal ha minst ett (kanskje 2) ord fra de første 1000 ord fra 'ord10k_utf-8.txt’ (tror jeg fjernet tall fra den liste, mulig det er noe annet rart der også).\n",
    "\n",
    "4) Andel ord med en karakter skal ikke være med enn 20 prosent av setningen eller flere enn 15 stykker totalt.\n",
    "\n",
    "5) Det skal ikke være for mange ord av store bokstaver, for å fjerne slike ’… send STOPP til ...’\n",
    "\n",
    "6) Det skal ikke være for mange 'tall ord' i setningen (mindre enn 3), men da teller jeg ikke årstall.\n",
    "\n",
    "7) Hvis det er mer enn 5 ord i en setning med stor bokstav kaster jeg dem ut, mulig dette skal være en prosent av ord og ikke antall.\n",
    "\n",
    "### Additional\n",
    "\n",
    "8) Remove all sentences with words that are a mix between letters and non-letters (numbers, signs, etc). This could remove comments \"hei\", but for now, there are spaces inbetween."
   ]
  },
  {
   "cell_type": "markdown",
   "metadata": {},
   "source": [
    "## Comments\n",
    "\n",
    "- There is always a space before punctuation. E.g. \"hei , sa han .\"\n",
    "- It looks like lines ends with \" \\n\""
   ]
  },
  {
   "cell_type": "code",
   "execution_count": 1,
   "metadata": {
    "collapsed": false
   },
   "outputs": [
    {
     "name": "stdout",
     "output_type": "stream",
     "text": [
      "..........\r\n",
      "----------------------------------------------------------------------\r\n",
      "Ran 10 tests in 0.000s\r\n",
      "\r\n",
      "OK\r\n"
     ]
    }
   ],
   "source": [
    "# run unittests\n",
    "! ipython test_matchText.py"
   ]
  },
  {
   "cell_type": "code",
   "execution_count": 2,
   "metadata": {
    "collapsed": true
   },
   "outputs": [],
   "source": [
    "from exceptions import NotImplementedError\n",
    "import re"
   ]
  },
  {
   "cell_type": "markdown",
   "metadata": {},
   "source": [
    "**Encodings:**\n",
    "Under we set up encodings so we can use regex on the norwegian language."
   ]
  },
  {
   "cell_type": "code",
   "execution_count": 3,
   "metadata": {
    "collapsed": false
   },
   "outputs": [
    {
     "data": {
      "text/plain": [
       "'no_NO'"
      ]
     },
     "execution_count": 3,
     "metadata": {},
     "output_type": "execute_result"
    }
   ],
   "source": [
    "import codecs #used to set utf-8 enconding, so we get unicode strings\n",
    "import locale\n",
    "locale.setlocale(locale.LC_ALL, 'no_NO') #so \\w, \\W, etc. contains norwegian letters"
   ]
  },
  {
   "cell_type": "code",
   "execution_count": 4,
   "metadata": {
    "collapsed": false
   },
   "outputs": [],
   "source": [
    "from matchText import MatchText\n",
    "# execfile('matchText.py')"
   ]
  },
  {
   "cell_type": "markdown",
   "metadata": {},
   "source": [
    "## Functions\n",
    "\n",
    "First we read a chunk of the data:"
   ]
  },
  {
   "cell_type": "code",
   "execution_count": 5,
   "metadata": {
    "collapsed": true
   },
   "outputs": [],
   "source": [
    "def readChunk(handle, size=100):\n",
    "    \"\"\"Read a chunk of a file\"\"\"\n",
    "    chunk = []\n",
    "    for i, line in enumerate(handle):\n",
    "        chunk.append(line)\n",
    "        if i+1 == size:\n",
    "            break\n",
    "    return chunk"
   ]
  },
  {
   "cell_type": "markdown",
   "metadata": {},
   "source": [
    "Then we give criteria for which lines should be included:"
   ]
  },
  {
   "cell_type": "code",
   "execution_count": 6,
   "metadata": {
    "collapsed": false
   },
   "outputs": [],
   "source": [
    "def processChunk(chunk):\n",
    "    removeIdx = set()\n",
    "    startNr = re.compile(r'\\A\\d+\\s+')\n",
    "    for i, line in enumerate(chunk):\n",
    "        line = MatchText(startNr.sub('', line))\n",
    "        if not line.startWithAWord():\n",
    "            removeIdx.add(i)\n",
    "            continue\n",
    "        # This is covered by startWithAWord\n",
    "#         if line.startWithSequence():\n",
    "#             removeIdx.add(i)\n",
    "#             continue\n",
    "        #Here we have a problem with punctuation separated by whitespace.\n",
    "        if line.nrOf1CharacterWords() >= 15:\n",
    "            removeIdx.add(i)\n",
    "            continue\n",
    "        if line.nrOf1CharacterWords() / float(line.nrOfWords()) > 0.2:\n",
    "            removeIdx.add(i)\n",
    "            continue\n",
    "        if line.nrOfUpperCaseWords() >= 3:\n",
    "            removeIdx.add(i)\n",
    "            continue\n",
    "        if (line.nrOfNumbers() - line.nrOfYears()) >= 3:\n",
    "            removeIdx.add(i)\n",
    "            continue\n",
    "        if line.nrOfWordsWithUpperCase() >= 5:\n",
    "            removeIdx.add(i)\n",
    "            continue\n",
    "#         if line.nrOfMixedWords() > 0:\n",
    "#             removeIdx.add(i)\n",
    "#             continue\n",
    "        if line.hasNrOf1000CommonNorwegianWords(1) == False:\n",
    "            removeIdx.add(i)\n",
    "            continue\n",
    "    text = u''\n",
    "    removedText = u''\n",
    "    for i, line in enumerate(chunk):\n",
    "        if i in removeIdx:\n",
    "            removedText += line\n",
    "        else:\n",
    "            text += line\n",
    "    return text, removedText"
   ]
  },
  {
   "cell_type": "markdown",
   "metadata": {},
   "source": [
    "**The order the evaluation in 'processChunk' is done, shold be considered!!!!**"
   ]
  },
  {
   "cell_type": "markdown",
   "metadata": {},
   "source": [
    "Then we write the lines that passed and didn't pass the tests to two separeate files:"
   ]
  },
  {
   "cell_type": "code",
   "execution_count": 7,
   "metadata": {
    "collapsed": true
   },
   "outputs": [],
   "source": [
    "def writeChunk(text, removedText, handle, handleRemove):\n",
    "    handle.write(text)\n",
    "    handleRemove.write(removedText)"
   ]
  },
  {
   "cell_type": "markdown",
   "metadata": {},
   "source": [
    "## Execution\n",
    "\n",
    "The size of the file is 3.9 GB"
   ]
  },
  {
   "cell_type": "code",
   "execution_count": 8,
   "metadata": {
    "collapsed": false
   },
   "outputs": [
    {
     "name": "stdout",
     "output_type": "stream",
     "text": [
      "3.9G\tnowac-1.2_old.txt\r\n"
     ]
    }
   ],
   "source": [
    "! du -h nowac-1.2_old.txt"
   ]
  },
  {
   "cell_type": "markdown",
   "metadata": {},
   "source": [
    "With 33.5 million sentences:"
   ]
  },
  {
   "cell_type": "code",
   "execution_count": 9,
   "metadata": {
    "collapsed": false
   },
   "outputs": [
    {
     "name": "stdout",
     "output_type": "stream",
     "text": [
      "  33501699  721718825 4085354972 nowac-1.2_old.txt\n",
      "CPU times: user 1.24 s, sys: 206 ms, total: 1.44 s\n",
      "Wall time: 5min 53s\n"
     ]
    }
   ],
   "source": [
    "%%time\n",
    "! wc nowac-1.2_old.txt"
   ]
  },
  {
   "cell_type": "markdown",
   "metadata": {},
   "source": [
    "And here is the acutual execution! By some reason, reading chunks of size 100 is the most efficient."
   ]
  },
  {
   "cell_type": "code",
   "execution_count": 10,
   "metadata": {
    "collapsed": true
   },
   "outputs": [],
   "source": [
    "filename = 'nowac-1.2_old.txt'"
   ]
  },
  {
   "cell_type": "code",
   "execution_count": 11,
   "metadata": {
    "collapsed": false
   },
   "outputs": [],
   "source": [
    "# Uncomment for simple test case\n",
    "# filename = 'test.txt'\n",
    "# ! head -n 100000 nowac-1.2_old.txt > test.txt"
   ]
  },
  {
   "cell_type": "code",
   "execution_count": 12,
   "metadata": {
    "collapsed": false,
    "scrolled": false
   },
   "outputs": [
    {
     "name": "stdout",
     "output_type": "stream",
     "text": [
      "CPU times: user 32min 30s, sys: 6.47 s, total: 32min 36s\n",
      "Wall time: 38min 25s\n"
     ]
    }
   ],
   "source": [
    "%%time\n",
    "chunk = ['']\n",
    "with codecs.open(filename, encoding='utf-8') as inF, \\\n",
    "     codecs.open('nowac_cleaned.txt', 'w', encoding='utf-8') as outF, \\\n",
    "     codecs.open('nowac_removed.txt', 'w', encoding='utf-8') as outFRemov:\n",
    "    while len(chunk) > 0:\n",
    "        chunk = readChunk(inF, 100)\n",
    "        text, removedText = processChunk(chunk)\n",
    "        writeChunk(text, removedText, outF, outFRemov)"
   ]
  },
  {
   "cell_type": "markdown",
   "metadata": {},
   "source": [
    "The data is split in a cleaned file and a rejected file:"
   ]
  },
  {
   "cell_type": "code",
   "execution_count": 13,
   "metadata": {
    "collapsed": false
   },
   "outputs": [
    {
     "name": "stdout",
     "output_type": "stream",
     "text": [
      "  22419428  413486154 2371748257 nowac_cleaned.txt\n",
      "  11082271  308232671 1713606715 nowac_removed.txt\n"
     ]
    }
   ],
   "source": [
    "! wc nowac_cleaned.txt\n",
    "! wc nowac_removed.txt"
   ]
  },
  {
   "cell_type": "code",
   "execution_count": 14,
   "metadata": {
    "collapsed": false
   },
   "outputs": [
    {
     "name": "stdout",
     "output_type": "stream",
     "text": [
      "2 Alexei Nikolaevich , Tsarevich of Russia . \r\n",
      "5 Inspirert av temaet i \" Iskaldt \" , gikk produsenten i gang med å skaffe seg miljøalibi . \r\n",
      "6 En gang var Norge og Danmark faktisk Russland allierte . \r\n",
      "7 Komiteen mente riktignok at det var urealistisk å bygge opp kostnadskrevende teknologisk og naturvitenskapelig forskning . \r\n",
      "8 Men Haatuft poengterer at « ski inn-ski ut » ikke er avgjørende for prisen på en hytte på Geilo . \r\n",
      "9 Eneste minuset er vel at C K bytter kusk , men det tror jeg får liten innvirkning . \r\n",
      "12 Jeg ble ikke sittende ved siden av dem i lunsjen , jeg dultet ikke borti dem under minglingen på mottagelsene . \r\n",
      "13 En forutsigbarhetstilnærming som den tilpasningsorienterte skole vil hevde er håpløs på grunn av foranderlige krav . \r\n",
      "14 Boken går inn i problematikken rundt lese - og skrivevansker , og tar opp en rekke spørsmål og drøfter disse i lys av nyere forskning . \r\n",
      "15 De kommissariske statsrådene , som sorterte direkte under rikskommissar Terboven , og NS på sin side , gikk i gang med å sette ut i livet sine ambisiøse planer for nyordningen av det norske samfunn . \r\n"
     ]
    }
   ],
   "source": [
    "! head -n 10 nowac_cleaned.txt"
   ]
  },
  {
   "cell_type": "code",
   "execution_count": 15,
   "metadata": {
    "collapsed": false
   },
   "outputs": [
    {
     "name": "stdout",
     "output_type": "stream",
     "text": [
      "1 _ _ _ _ _ _ _ _ _ _ _ _ _ _ _ _ _ _ 10.11 RYG-STN , 11.11 STN-RYG , 22.12 OSL-AES , 27.12 AES-OSL . \r\n",
      "3 I potten er det kanoner som Liverpool , Manchester United , Inter og Ajax , for å nevne noen . \r\n",
      "4 På den deltar også arkitekt Niels Torp og konserndirektøren Kurt Ritter i hotellkjeden Rezidor . \r\n",
      "10 I ' m Cliff Richard , you know . \r\n",
      "11 men ' slapp ' Nja , ikke enig . \r\n",
      "29 I dag kommer CPI , som det vil bli mye fokus på etter en core PPI godt over forvetningene forrige fredag . \r\n",
      "30 Les mer ( 06.01.2008 ) ADRA bistår fordrevne i Kenya Urolighetene etter forrige ukes presidentvalg i Kenya tvinger hundretusener fra hjemmene sine . \r\n",
      "32 Forvant også andre forsterkninger fra 1 laget , som Korkmaz , Tsomou , Rivero , Heller og Toski og da stiller man meget sterkt i denne , også offensivt med trioen Tsmou , Heller og Rivero . \r\n",
      "35 Mvh Frank Skrevet : 3.4.2008 kl. 10:05 Svar Sitér David O. Takk ... Ja det var alt for lys ... Vi var på veien til Galleri på sondag men måte snur på grunn av tid press dessverre . \r\n",
      "41 varegr = 665 _ 1 #. Går det å kutte opp emner for dreiing ? \r\n"
     ]
    }
   ],
   "source": [
    "! head -n 10 nowac_removed.txt"
   ]
  }
 ],
 "metadata": {
  "kernelspec": {
   "display_name": "Python 2",
   "language": "python",
   "name": "python2"
  },
  "language_info": {
   "codemirror_mode": {
    "name": "ipython",
    "version": 2
   },
   "file_extension": ".py",
   "mimetype": "text/x-python",
   "name": "python",
   "nbconvert_exporter": "python",
   "pygments_lexer": "ipython2",
   "version": "2.7.11"
  }
 },
 "nbformat": 4,
 "nbformat_minor": 0
}
