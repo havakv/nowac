{
 "cells": [
  {
   "cell_type": "markdown",
   "metadata": {},
   "source": [
    "# Word2Vec \n",
    "\n",
    "In this notebook we create word embeddings based on the nowac dataset.\n",
    "\n",
    "This is just to investigate how it works.\n",
    "\n",
    "Some notes on how the data is processed:\n",
    "- Punctuation is not removed, but interpreted as words.\n",
    "- All words are lower case.\n",
    "- Words that are used less than 5 time in the corpus, are removed.\n",
    "- CBOW is used."
   ]
  },
  {
   "cell_type": "code",
   "execution_count": 1,
   "metadata": {
    "collapsed": true
   },
   "outputs": [],
   "source": [
    "from gensim.models import Word2Vec\n",
    "import re\n",
    "import codecs"
   ]
  },
  {
   "cell_type": "code",
   "execution_count": 2,
   "metadata": {
    "collapsed": false
   },
   "outputs": [
    {
     "name": "stdout",
     "output_type": "stream",
     "text": [
      "2.3G\tnowac_cleaned.txt\r\n"
     ]
    }
   ],
   "source": [
    "! du -h nowac_cleaned.txt"
   ]
  },
  {
   "cell_type": "code",
   "execution_count": 3,
   "metadata": {
    "collapsed": false
   },
   "outputs": [
    {
     "name": "stdout",
     "output_type": "stream",
     "text": [
      "  22419428  413486154 2371748257 nowac_cleaned.txt\r\n"
     ]
    }
   ],
   "source": [
    "! wc nowac_cleaned.txt"
   ]
  },
  {
   "cell_type": "markdown",
   "metadata": {},
   "source": [
    "## Read from file with generator\n",
    "\n",
    "We read from the file with a gererator so we don't have to fit the whole file in memory. \n",
    "\n",
    "It would be faster to read chunks (possibly 25% less time), but then we whould have to generate the vocabulary in a, and possibly read multiple times. "
   ]
  },
  {
   "cell_type": "code",
   "execution_count": 2,
   "metadata": {
    "collapsed": false
   },
   "outputs": [],
   "source": [
    "class Sentences(object):\n",
    "    startNr = re.compile(r'\\A\\d+\\s+') # Remove number in start of line\n",
    "    def __init__(self, filename):\n",
    "        self.filename = filename\n",
    "    def __iter__(self):\n",
    "        with codecs.open(self.filename, encoding='utf-8') as f:\n",
    "            for line in f:\n",
    "                yield startNr.sub('', line).lower().split()"
   ]
  },
  {
   "cell_type": "markdown",
   "metadata": {},
   "source": [
    "## Test case "
   ]
  },
  {
   "cell_type": "code",
   "execution_count": 111,
   "metadata": {
    "collapsed": true
   },
   "outputs": [],
   "source": [
    "# ! head -n 1000000 nowac_cleaned.txt > test-nowac.txt"
   ]
  },
  {
   "cell_type": "code",
   "execution_count": 112,
   "metadata": {
    "collapsed": false
   },
   "outputs": [],
   "source": [
    "# sentences = Sentences('test-nowac.txt')"
   ]
  },
  {
   "cell_type": "markdown",
   "metadata": {},
   "source": [
    "## One pass through the data\n",
    "\n",
    "Estimated to take around 20 min"
   ]
  },
  {
   "cell_type": "code",
   "execution_count": 119,
   "metadata": {
    "collapsed": true
   },
   "outputs": [],
   "source": [
    "sentences = Sentences('nowac_cleaned.txt')"
   ]
  },
  {
   "cell_type": "code",
   "execution_count": 120,
   "metadata": {
    "collapsed": true
   },
   "outputs": [],
   "source": [
    "model = Word2Vec(size=100, # dim of word embeddings \n",
    "                 window=5, # max dist between current and predicted word\n",
    "                 min_count=5, # ignore words used less than this\n",
    "                 workers=2, # nr of cores\n",
    "                 sg=0, # 0 for CBOW and 1 for skip-gram\n",
    "                 iter=1, # number of iterations over the corpus\n",
    "                 )"
   ]
  },
  {
   "cell_type": "code",
   "execution_count": 121,
   "metadata": {
    "collapsed": false
   },
   "outputs": [
    {
     "name": "stdout",
     "output_type": "stream",
     "text": [
      "CPU times: user 6min 51s, sys: 6.56 s, total: 6min 58s\n",
      "Wall time: 7min 5s\n"
     ]
    }
   ],
   "source": [
    "%%time\n",
    "model.build_vocab(sentences)"
   ]
  },
  {
   "cell_type": "code",
   "execution_count": 122,
   "metadata": {
    "collapsed": false
   },
   "outputs": [
    {
     "name": "stdout",
     "output_type": "stream",
     "text": [
      "CPU times: user 24min 12s, sys: 36.7 s, total: 24min 48s\n",
      "Wall time: 12min 7s\n"
     ]
    },
    {
     "data": {
      "text/plain": [
       "284351565"
      ]
     },
     "execution_count": 122,
     "metadata": {},
     "output_type": "execute_result"
    }
   ],
   "source": [
    "%%time\n",
    "model.train(sentences)"
   ]
  },
  {
   "cell_type": "code",
   "execution_count": 124,
   "metadata": {
    "collapsed": false
   },
   "outputs": [
    {
     "data": {
      "text/plain": [
       "[(u'jente', 0.9299687743186951),\n",
       " (u'dame', 0.8450915217399597),\n",
       " (u'pike', 0.7537344098091125),\n",
       " (u'kvinne', 0.7472227811813354),\n",
       " (u'ten\\xe5ring', 0.7296069860458374),\n",
       " (u'datter', 0.7209495902061462),\n",
       " (u'venninne', 0.7089371681213379),\n",
       " (u'stores\\xf8ster', 0.7047269940376282),\n",
       " (u'lilles\\xf8ster', 0.7041319012641907),\n",
       " (u'mann', 0.7030349373817444)]"
      ]
     },
     "execution_count": 124,
     "metadata": {},
     "output_type": "execute_result"
    }
   ],
   "source": [
    "model.most_similar(positive=['hun', 'gutt'], negative=['han'])"
   ]
  },
  {
   "cell_type": "markdown",
   "metadata": {},
   "source": [
    "## A second pass"
   ]
  },
  {
   "cell_type": "code",
   "execution_count": 125,
   "metadata": {
    "collapsed": false
   },
   "outputs": [
    {
     "name": "stdout",
     "output_type": "stream",
     "text": [
      "CPU times: user 24min 22s, sys: 33 s, total: 24min 55s\n",
      "Wall time: 11min 59s\n"
     ]
    },
    {
     "data": {
      "text/plain": [
       "284342197"
      ]
     },
     "execution_count": 125,
     "metadata": {},
     "output_type": "execute_result"
    }
   ],
   "source": [
    "%%time\n",
    "model.train(sentences)"
   ]
  },
  {
   "cell_type": "code",
   "execution_count": 126,
   "metadata": {
    "collapsed": false
   },
   "outputs": [
    {
     "data": {
      "text/plain": [
       "[(u'jente', 0.9386008977890015),\n",
       " (u'dame', 0.8350882530212402),\n",
       " (u'pike', 0.7984364032745361),\n",
       " (u'kvinne', 0.7504758238792419),\n",
       " (u'ten\\xe5ring', 0.7339444160461426),\n",
       " (u'datter', 0.7331860065460205),\n",
       " (u'venninne', 0.7170625329017639),\n",
       " (u'kattunge', 0.7054935097694397),\n",
       " (u'mann', 0.7037138938903809),\n",
       " (u'lilles\\xf8ster', 0.6950181126594543)]"
      ]
     },
     "execution_count": 126,
     "metadata": {},
     "output_type": "execute_result"
    }
   ],
   "source": [
    "model.most_similar(positive=['hun', 'gutt'], negative=['han'])"
   ]
  },
  {
   "cell_type": "markdown",
   "metadata": {},
   "source": [
    "## Third"
   ]
  },
  {
   "cell_type": "code",
   "execution_count": 133,
   "metadata": {
    "collapsed": false
   },
   "outputs": [
    {
     "name": "stdout",
     "output_type": "stream",
     "text": [
      "CPU times: user 23min 48s, sys: 30.9 s, total: 24min 19s\n",
      "Wall time: 11min 35s\n"
     ]
    },
    {
     "data": {
      "text/plain": [
       "284356813"
      ]
     },
     "execution_count": 133,
     "metadata": {},
     "output_type": "execute_result"
    }
   ],
   "source": [
    "%%time\n",
    "model.train(sentences)"
   ]
  },
  {
   "cell_type": "code",
   "execution_count": 134,
   "metadata": {
    "collapsed": false
   },
   "outputs": [
    {
     "data": {
      "text/plain": [
       "[(u'jente', 0.9425826668739319),\n",
       " (u'dame', 0.8421979546546936),\n",
       " (u'pike', 0.8175129890441895),\n",
       " (u'kvinne', 0.7444599866867065),\n",
       " (u'ten\\xe5ring', 0.7209830284118652),\n",
       " (u'datter', 0.7146647572517395),\n",
       " (u'mann', 0.7126047611236572),\n",
       " (u'lilles\\xf8ster', 0.7066370248794556),\n",
       " (u'jentunge', 0.7033668756484985),\n",
       " (u'venninne', 0.6961722373962402)]"
      ]
     },
     "execution_count": 134,
     "metadata": {},
     "output_type": "execute_result"
    }
   ],
   "source": [
    "model.most_similar(positive=['hun', 'gutt'], negative=['han'])"
   ]
  },
  {
   "cell_type": "markdown",
   "metadata": {},
   "source": [
    "# Save the model"
   ]
  },
  {
   "cell_type": "code",
   "execution_count": 135,
   "metadata": {
    "collapsed": true
   },
   "outputs": [],
   "source": [
    "model.save('models/first_model')"
   ]
  },
  {
   "cell_type": "code",
   "execution_count": 136,
   "metadata": {
    "collapsed": false
   },
   "outputs": [
    {
     "name": "stdout",
     "output_type": "stream",
     "text": [
      "57M\tmodels/first_model\r\n",
      "267M\tmodels/first_model.syn0.npy\r\n",
      "267M\tmodels/first_model.syn1neg.npy\r\n"
     ]
    }
   ],
   "source": [
    "! du -h models/first_model*"
   ]
  },
  {
   "cell_type": "markdown",
   "metadata": {},
   "source": [
    "## Load the model"
   ]
  },
  {
   "cell_type": "code",
   "execution_count": 6,
   "metadata": {
    "collapsed": true
   },
   "outputs": [],
   "source": [
    "model = Word2Vec.load('models/first_model')"
   ]
  },
  {
   "cell_type": "code",
   "execution_count": 7,
   "metadata": {
    "collapsed": false
   },
   "outputs": [
    {
     "data": {
      "text/plain": [
       "[(u'jente', 0.9425826668739319),\n",
       " (u'dame', 0.8421979546546936),\n",
       " (u'pike', 0.8175129890441895),\n",
       " (u'kvinne', 0.7444599866867065),\n",
       " (u'ten\\xe5ring', 0.7209830284118652),\n",
       " (u'datter', 0.7146647572517395),\n",
       " (u'mann', 0.7126047611236572),\n",
       " (u'lilles\\xf8ster', 0.7066370248794556),\n",
       " (u'jentunge', 0.7033668756484985),\n",
       " (u'venninne', 0.6961722373962402)]"
      ]
     },
     "execution_count": 7,
     "metadata": {},
     "output_type": "execute_result"
    }
   ],
   "source": [
    "model.most_similar(positive=['hun', 'gutt'], negative=['han'])"
   ]
  },
  {
   "cell_type": "markdown",
   "metadata": {
    "collapsed": true
   },
   "source": [
    "# Investigate model"
   ]
  },
  {
   "cell_type": "code",
   "execution_count": 10,
   "metadata": {
    "collapsed": false
   },
   "outputs": [
    {
     "data": {
      "text/plain": [
       "{'syn0': 279679600,\n",
       " 'syn1neg': 279679600,\n",
       " 'total': 908958700,\n",
       " 'vocab': 349599500}"
      ]
     },
     "execution_count": 10,
     "metadata": {},
     "output_type": "execute_result"
    }
   ],
   "source": [
    "model.estimate_memory()"
   ]
  },
  {
   "cell_type": "markdown",
   "metadata": {},
   "source": [
    "As far as I can understand we have this many words:"
   ]
  },
  {
   "cell_type": "code",
   "execution_count": 12,
   "metadata": {
    "collapsed": false
   },
   "outputs": [
    {
     "data": {
      "text/plain": [
       "699199"
      ]
     },
     "execution_count": 12,
     "metadata": {},
     "output_type": "execute_result"
    }
   ],
   "source": [
    "len(model.vocab)"
   ]
  },
  {
   "cell_type": "markdown",
   "metadata": {},
   "source": [
    "and this many instances of hei:"
   ]
  },
  {
   "cell_type": "code",
   "execution_count": 20,
   "metadata": {
    "collapsed": false
   },
   "outputs": [
    {
     "data": {
      "text/plain": [
       "51190"
      ]
     },
     "execution_count": 20,
     "metadata": {},
     "output_type": "execute_result"
    }
   ],
   "source": [
    "model.vocab['hei'].count"
   ]
  },
  {
   "cell_type": "markdown",
   "metadata": {},
   "source": [
    "and this is the vector for hei:"
   ]
  },
  {
   "cell_type": "code",
   "execution_count": 21,
   "metadata": {
    "collapsed": false
   },
   "outputs": [
    {
     "data": {
      "text/plain": [
       "array([ 1.54843998, -0.32993838, -1.70601118, -3.39740086, -3.05587769,\n",
       "        1.68532646,  0.65438181, -2.35846734,  0.28345835, -0.75644213,\n",
       "        2.5716002 ,  1.51044118, -5.34372663, -0.00618741,  0.77062452,\n",
       "       -2.53049088, -2.91748667,  2.61833525,  0.35818765,  1.6469332 ,\n",
       "        1.36840808, -3.23291183,  2.53219628, -1.84026778,  1.1187433 ,\n",
       "       -1.14597976, -0.34033257, -1.15849817, -0.54650331,  0.68562329,\n",
       "       -0.90300816,  1.64296544,  2.73593807,  4.24588299,  0.40872321,\n",
       "       -0.21481653,  2.02794957, -1.96033096, -3.63693905,  0.83259249,\n",
       "        2.25177884,  0.33194867,  1.64359975, -0.44653463, -0.3839815 ,\n",
       "       -0.25759134, -1.73013878,  1.3357091 ,  3.07605457,  0.74214005,\n",
       "       -1.05492687, -0.40796721, -2.86962771, -4.00833416, -0.38941222,\n",
       "       -1.14391899,  0.48896596,  3.42566657, -2.04793859, -1.46021271,\n",
       "        4.4045105 , -0.14737129, -2.62188148,  0.81073081, -1.07147849,\n",
       "        0.89766145, -2.16014409,  1.23088992,  1.84157062, -2.33440995,\n",
       "        0.42027903,  0.99743903, -0.12030448, -0.78046465,  1.91606998,\n",
       "       -0.94655418,  2.50793481,  1.00674987,  2.17177701,  0.67537755,\n",
       "       -2.35471535,  1.31985736,  2.53212547, -1.3657583 , -0.70701176,\n",
       "       -0.62727064, -1.09758353,  0.77706343,  1.01492369, -0.21569359,\n",
       "       -0.14350098,  4.05796814, -0.63105887, -0.34580368,  0.58052099,\n",
       "       -1.22320163,  0.49274698, -1.92087913, -2.69032168,  1.95236766], dtype=float32)"
      ]
     },
     "execution_count": 21,
     "metadata": {},
     "output_type": "execute_result"
    }
   ],
   "source": [
    "model['hei']"
   ]
  },
  {
   "cell_type": "code",
   "execution_count": null,
   "metadata": {
    "collapsed": true
   },
   "outputs": [],
   "source": []
  }
 ],
 "metadata": {
  "kernelspec": {
   "display_name": "Python 2",
   "language": "python",
   "name": "python2"
  },
  "language_info": {
   "codemirror_mode": {
    "name": "ipython",
    "version": 2
   },
   "file_extension": ".py",
   "mimetype": "text/x-python",
   "name": "python",
   "nbconvert_exporter": "python",
   "pygments_lexer": "ipython2",
   "version": "2.7.11"
  }
 },
 "nbformat": 4,
 "nbformat_minor": 0
}
